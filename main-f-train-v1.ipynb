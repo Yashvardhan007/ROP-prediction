{
 "cells": [
  {
   "cell_type": "markdown",
   "metadata": {
    "id": "KFPWrWWmfZQf"
   },
   "source": [
    "# importing necessary libraries"
   ]
  },
  {
   "cell_type": "code",
   "execution_count": 1,
   "metadata": {
    "id": "duTbtRYHKUHn"
   },
   "outputs": [],
   "source": [
    "import numpy as np\n",
    "import pandas as pd\n",
    "import matplotlib.pyplot as plt\n",
    "import seaborn as sns\n",
    "import scipy\n",
    "import sklearn"
   ]
  },
  {
   "cell_type": "code",
   "execution_count": 2,
   "metadata": {
    "id": "9PFyqcNjr055",
    "outputId": "3d4b70bf-4128-4525-a319-02e9c8bb9882"
   },
   "outputs": [
    {
     "name": "stdout",
     "output_type": "stream",
     "text": [
      "Requirement already satisfied: catboost in /opt/conda/lib/python3.7/site-packages (0.25)\n",
      "Requirement already satisfied: numpy>=1.16.0 in /opt/conda/lib/python3.7/site-packages (from catboost) (1.19.5)\n",
      "Requirement already satisfied: plotly in /opt/conda/lib/python3.7/site-packages (from catboost) (4.14.3)\n",
      "Requirement already satisfied: six in /opt/conda/lib/python3.7/site-packages (from catboost) (1.15.0)\n",
      "Requirement already satisfied: matplotlib in /opt/conda/lib/python3.7/site-packages (from catboost) (3.4.0)\n",
      "Requirement already satisfied: pandas>=0.24.0 in /opt/conda/lib/python3.7/site-packages (from catboost) (1.1.5)\n",
      "Requirement already satisfied: graphviz in /opt/conda/lib/python3.7/site-packages (from catboost) (0.8.4)\n",
      "Requirement already satisfied: scipy in /opt/conda/lib/python3.7/site-packages (from catboost) (1.5.4)\n",
      "Requirement already satisfied: python-dateutil>=2.7.3 in /opt/conda/lib/python3.7/site-packages (from pandas>=0.24.0->catboost) (2.8.1)\n",
      "Requirement already satisfied: pytz>=2017.2 in /opt/conda/lib/python3.7/site-packages (from pandas>=0.24.0->catboost) (2021.1)\n",
      "Requirement already satisfied: kiwisolver>=1.0.1 in /opt/conda/lib/python3.7/site-packages (from matplotlib->catboost) (1.3.1)\n",
      "Requirement already satisfied: cycler>=0.10 in /opt/conda/lib/python3.7/site-packages (from matplotlib->catboost) (0.10.0)\n",
      "Requirement already satisfied: pyparsing>=2.2.1 in /opt/conda/lib/python3.7/site-packages (from matplotlib->catboost) (2.4.7)\n",
      "Requirement already satisfied: pillow>=6.2.0 in /opt/conda/lib/python3.7/site-packages (from matplotlib->catboost) (7.2.0)\n",
      "Requirement already satisfied: retrying>=1.3.3 in /opt/conda/lib/python3.7/site-packages (from plotly->catboost) (1.3.3)\n"
     ]
    }
   ],
   "source": [
    "!pip install catboost"
   ]
  },
  {
   "cell_type": "code",
   "execution_count": 3,
   "metadata": {
    "id": "-De7INixP-Vv"
   },
   "outputs": [],
   "source": [
    "import xgboost as xg\n",
    "from catboost import CatBoostRegressor\n",
    "from sklearn.ensemble import RandomForestRegressor\n",
    "import pickle"
   ]
  },
  {
   "cell_type": "markdown",
   "metadata": {
    "id": "KmDNxeWsfiUb"
   },
   "source": [
    "# Loading data"
   ]
  },
  {
   "cell_type": "code",
   "execution_count": 5,
   "metadata": {
    "id": "JQQqS4FmHK48"
   },
   "outputs": [],
   "source": [
    "train_file = pd.read_csv(\"../input/train-file/tech_challenge2021_train.csv\")\n",
    "test_file = pd.read_csv(\"../input/test-file/tech_challenge2021_test.csv\") #upload files in session storage"
   ]
  },
  {
   "cell_type": "code",
   "execution_count": 6,
   "metadata": {
    "id": "Z-DS0TqIc5rl",
    "outputId": "db6cc124-6ee9-4d9b-bbe9-d87803386955"
   },
   "outputs": [
    {
     "data": {
      "text/plain": [
       "(198928, 13)"
      ]
     },
     "execution_count": 6,
     "metadata": {},
     "output_type": "execute_result"
    }
   ],
   "source": [
    "train_file.shape"
   ]
  },
  {
   "cell_type": "code",
   "execution_count": 7,
   "metadata": {
    "id": "u6OA4H8Ihg2Q"
   },
   "outputs": [],
   "source": [
    "train_file_1 = train_file.copy()\n",
    "test_file_1 = test_file.copy() #copying files for further preprocessing"
   ]
  },
  {
   "cell_type": "markdown",
   "metadata": {
    "id": "c05P1jEtlFki"
   },
   "source": [
    "# Visualizing data"
   ]
  },
  {
   "cell_type": "code",
   "execution_count": null,
   "metadata": {
    "id": "2GHmx5ZoiXMZ"
   },
   "outputs": [],
   "source": [
    "train_file_1.head(10)"
   ]
  },
  {
   "cell_type": "code",
   "execution_count": null,
   "metadata": {
    "id": "oVFcMlrOsS-g"
   },
   "outputs": [],
   "source": [
    "train_file_1['Well Identifier'].value_counts()"
   ]
  },
  {
   "cell_type": "code",
   "execution_count": null,
   "metadata": {
    "id": "aA1R4kg7eMWb"
   },
   "outputs": [],
   "source": [
    "test_file_1['Well Identifier'].value_counts()"
   ]
  },
  {
   "cell_type": "markdown",
   "metadata": {},
   "source": [
    "Visualize each wells seperately"
   ]
  },
  {
   "cell_type": "code",
   "execution_count": null,
   "metadata": {
    "id": "-1yZvGZCk8E0"
   },
   "outputs": [],
   "source": [
    "well1 = train_file_1[ train_file_1[\"Well Identifier\"] == \"USROP_A 6 N-SH_F-9d\"]"
   ]
  },
  {
   "cell_type": "code",
   "execution_count": null,
   "metadata": {
    "id": "qQVmn3wpsNbv"
   },
   "outputs": [],
   "source": [
    "well2 = train_file_1[ train_file_1[\"Well Identifier\"] == \"USROP_A 3 N-SH-F-15d\"]"
   ]
  },
  {
   "cell_type": "code",
   "execution_count": null,
   "metadata": {
    "id": "A2XR51yivGos"
   },
   "outputs": [],
   "source": [
    "well3 = train_file_1[ train_file_1[\"Well Identifier\"] == \"USROP_A 1 N-S_F-7d\"]"
   ]
  },
  {
   "cell_type": "code",
   "execution_count": null,
   "metadata": {
    "id": "3RP_LUwCvli2"
   },
   "outputs": [],
   "source": [
    "well4 = train_file_1[ train_file_1[\"Well Identifier\"] == \"USROP_A 4 N-SH_F-15Sd\"]"
   ]
  },
  {
   "cell_type": "code",
   "execution_count": null,
   "metadata": {
    "id": "FS3e1lEpwEZh"
   },
   "outputs": [],
   "source": [
    "well5 = train_file_1[ train_file_1[\"Well Identifier\"] == \"USROP_A 2 N-SH_F-14d\"]"
   ]
  },
  {
   "cell_type": "code",
   "execution_count": null,
   "metadata": {
    "id": "ROLsFOHjxGJB"
   },
   "outputs": [],
   "source": [
    "well6 = train_file_1[ train_file_1[\"Well Identifier\"] == \"USROP_A 0 N-NA_F-9_Ad\"]"
   ]
  },
  {
   "cell_type": "code",
   "execution_count": null,
   "metadata": {
    "id": "1IzaMLZLxamy"
   },
   "outputs": [],
   "source": [
    "well7 = train_file_1[ train_file_1[\"Well Identifier\"] == \"USROP_A 5 N-SH-F-5d\"]"
   ]
  },
  {
   "cell_type": "code",
   "execution_count": null,
   "metadata": {
    "id": "T1tdND96n4yD"
   },
   "outputs": [],
   "source": [
    "well1.corr()"
   ]
  },
  {
   "cell_type": "code",
   "execution_count": null,
   "metadata": {
    "id": "DI21sp2Dsm8r"
   },
   "outputs": [],
   "source": [
    "well2.corr()"
   ]
  },
  {
   "cell_type": "code",
   "execution_count": null,
   "metadata": {
    "id": "1laX50yyvYIF"
   },
   "outputs": [],
   "source": [
    "well3.corr()"
   ]
  },
  {
   "cell_type": "code",
   "execution_count": null,
   "metadata": {
    "id": "9jZhb5hYv4yF"
   },
   "outputs": [],
   "source": [
    "well4.corr()"
   ]
  },
  {
   "cell_type": "code",
   "execution_count": null,
   "metadata": {
    "id": "C6AleFBhwBaL"
   },
   "outputs": [],
   "source": [
    "well5.corr()"
   ]
  },
  {
   "cell_type": "code",
   "execution_count": null,
   "metadata": {
    "id": "GcWShWl5xQ6p"
   },
   "outputs": [],
   "source": [
    "well6.corr()"
   ]
  },
  {
   "cell_type": "code",
   "execution_count": null,
   "metadata": {
    "id": "O2akk9G5xmZj"
   },
   "outputs": [],
   "source": [
    "well7.corr()"
   ]
  },
  {
   "cell_type": "code",
   "execution_count": null,
   "metadata": {
    "id": "YiJzgtR2epPO"
   },
   "outputs": [],
   "source": [
    "test_file_1.corr()"
   ]
  },
  {
   "cell_type": "code",
   "execution_count": null,
   "metadata": {
    "id": "8fzVohJTDaYc"
   },
   "outputs": [],
   "source": [
    "test_file_1.head(10)"
   ]
  },
  {
   "cell_type": "code",
   "execution_count": null,
   "metadata": {
    "id": "4e4wVzOSlKQs"
   },
   "outputs": [],
   "source": [
    "plt.figure(figsize=(30, 10))\n",
    "plt.scatter(well1[\"Measured Depth m\"],well1[\"Rate of Penetration m/h\"])\n",
    "plt.scatter(well1[\"Measured Depth m\"],well1[\"Average Rotary Speed rpm\"])\n",
    "plt.scatter(well1[\"Measured Depth m\"],well1[\"USROP Gamma gAPI\"])\n",
    "plt.scatter(well1[\"Measured Depth m\"],well1[\"Mud Density In g/cm3\"])\n",
    "plt.plot()"
   ]
  },
  {
   "cell_type": "code",
   "execution_count": null,
   "metadata": {
    "id": "hRX5cs0StAfw"
   },
   "outputs": [],
   "source": [
    "plt.figure(figsize=(30, 10))\n",
    "plt.scatter(well2[\"Measured Depth m\"],well2[\"Rate of Penetration m/h\"])\n",
    "plt.scatter(well2[\"Measured Depth m\"],well2[\"Average Rotary Speed rpm\"])\n",
    "plt.scatter(well2[\"Measured Depth m\"],well2[\"USROP Gamma gAPI\"])\n",
    "plt.scatter(well2[\"Measured Depth m\"],well2[\"Mud Density In g/cm3\"])\n",
    "plt.plot()"
   ]
  },
  {
   "cell_type": "code",
   "execution_count": null,
   "metadata": {
    "id": "mtNCsN97yVP9"
   },
   "outputs": [],
   "source": [
    "plt.figure(figsize=(30, 10))\n",
    "plt.scatter(well3[\"Measured Depth m\"],well3[\"Rate of Penetration m/h\"])\n",
    "plt.scatter(well3[\"Measured Depth m\"],well3[\"Average Rotary Speed rpm\"])\n",
    "plt.scatter(well3[\"Measured Depth m\"],well3[\"USROP Gamma gAPI\"])\n",
    "plt.scatter(well3[\"Measured Depth m\"],well3[\"Mud Density In g/cm3\"])\n",
    "plt.plot()"
   ]
  },
  {
   "cell_type": "code",
   "execution_count": null,
   "metadata": {
    "id": "SzhiA94eyqet"
   },
   "outputs": [],
   "source": [
    "plt.figure(figsize=(30, 10))\n",
    "plt.scatter(well4[\"Measured Depth m\"],well4[\"Rate of Penetration m/h\"])\n",
    "plt.scatter(well4[\"Measured Depth m\"],well4[\"Average Rotary Speed rpm\"])\n",
    "plt.scatter(well4[\"Measured Depth m\"],well4[\"USROP Gamma gAPI\"])\n",
    "plt.scatter(well4[\"Measured Depth m\"],well4[\"Mud Density In g/cm3\"])\n",
    "plt.plot()"
   ]
  },
  {
   "cell_type": "code",
   "execution_count": null,
   "metadata": {
    "id": "pJEpV1E_y2RO"
   },
   "outputs": [],
   "source": [
    "plt.figure(figsize=(30, 10))\n",
    "plt.scatter(well5[\"Measured Depth m\"],well5[\"Rate of Penetration m/h\"])\n",
    "plt.scatter(well5[\"Measured Depth m\"],well5[\"Average Rotary Speed rpm\"])\n",
    "plt.scatter(well5[\"Measured Depth m\"],well5[\"USROP Gamma gAPI\"])\n",
    "plt.scatter(well5[\"Measured Depth m\"],well5[\"Mud Density In g/cm3\"])\n",
    "plt.plot()"
   ]
  },
  {
   "cell_type": "code",
   "execution_count": null,
   "metadata": {
    "id": "69_TTL0-zt-u"
   },
   "outputs": [],
   "source": [
    "plt.figure(figsize=(30, 10))\n",
    "plt.scatter(well6[\"Measured Depth m\"],well6[\"Rate of Penetration m/h\"])\n",
    "plt.scatter(well6[\"Measured Depth m\"],well6[\"Average Rotary Speed rpm\"])\n",
    "plt.scatter(well6[\"Measured Depth m\"],well6[\"USROP Gamma gAPI\"])\n",
    "plt.scatter(well6[\"Measured Depth m\"],well6[\"Mud Density In g/cm3\"])\n",
    "plt.plot()"
   ]
  },
  {
   "cell_type": "code",
   "execution_count": null,
   "metadata": {
    "id": "oz7uBsRVz94Z"
   },
   "outputs": [],
   "source": [
    "plt.figure(figsize=(30, 10))\n",
    "plt.scatter(well7[\"Measured Depth m\"],well7[\"Rate of Penetration m/h\"])\n",
    "plt.scatter(well7[\"Measured Depth m\"],well7[\"Average Rotary Speed rpm\"])\n",
    "plt.scatter(well7[\"Measured Depth m\"],well7[\"USROP Gamma gAPI\"])\n",
    "plt.scatter(well7[\"Measured Depth m\"],well7[\"Mud Density In g/cm3\"])\n",
    "plt.plot()"
   ]
  },
  {
   "cell_type": "code",
   "execution_count": null,
   "metadata": {
    "id": "ystC8Qh4e4No"
   },
   "outputs": [],
   "source": [
    "plt.figure(figsize=(30, 10))\n",
    "plt.scatter(test_file_1[\"Measured Depth m\"],test_file_1[\"Average Rotary Speed rpm\"])\n",
    "plt.scatter(test_file_1[\"Measured Depth m\"],test_file_1[\"USROP Gamma gAPI\"])\n",
    "plt.scatter(test_file_1[\"Measured Depth m\"],test_file_1[\"Mud Density In g/cm3\"])\n",
    "plt.plot()"
   ]
  },
  {
   "cell_type": "code",
   "execution_count": null,
   "metadata": {
    "id": "p5vatW1ehatS"
   },
   "outputs": [],
   "source": [
    "test_file_1['Mud Density In g/cm3'].value_counts()"
   ]
  },
  {
   "cell_type": "code",
   "execution_count": null,
   "metadata": {
    "id": "w4BM7AHwhpHv"
   },
   "outputs": [],
   "source": [
    "test_file_1['Average Rotary Speed rpm'].value_counts()"
   ]
  },
  {
   "cell_type": "code",
   "execution_count": null,
   "metadata": {
    "id": "zAFBZhcKh1ds"
   },
   "outputs": [],
   "source": [
    "test_file_1.describe()"
   ]
  },
  {
   "cell_type": "code",
   "execution_count": null,
   "metadata": {
    "id": "a-rZBpFjoWsH"
   },
   "outputs": [],
   "source": [
    "well1.describe()"
   ]
  },
  {
   "cell_type": "code",
   "execution_count": null,
   "metadata": {
    "id": "cxKaf8VQoiZl"
   },
   "outputs": [],
   "source": [
    "well2.describe()"
   ]
  },
  {
   "cell_type": "code",
   "execution_count": null,
   "metadata": {
    "id": "y5ENH3ozpWtZ"
   },
   "outputs": [],
   "source": [
    "well3.describe()"
   ]
  },
  {
   "cell_type": "code",
   "execution_count": null,
   "metadata": {
    "id": "iDD7Ix25pg2O"
   },
   "outputs": [],
   "source": [
    "well4.describe()"
   ]
  },
  {
   "cell_type": "code",
   "execution_count": null,
   "metadata": {
    "id": "gdfzewo0ppnt"
   },
   "outputs": [],
   "source": [
    "well5.describe()"
   ]
  },
  {
   "cell_type": "code",
   "execution_count": null,
   "metadata": {
    "id": "ovLjQdVZpt04"
   },
   "outputs": [],
   "source": [
    "well6.describe()"
   ]
  },
  {
   "cell_type": "code",
   "execution_count": null,
   "metadata": {
    "id": "nlBnOhNMpxOK"
   },
   "outputs": [],
   "source": [
    "well7.describe()"
   ]
  },
  {
   "cell_type": "code",
   "execution_count": null,
   "metadata": {
    "id": "qh9R5VCTi7FA"
   },
   "outputs": [],
   "source": [
    "train_file_1.notna().sum()"
   ]
  },
  {
   "cell_type": "code",
   "execution_count": null,
   "metadata": {
    "id": "pD3V4oY8jMFf"
   },
   "outputs": [],
   "source": [
    "train_file_1.describe()"
   ]
  },
  {
   "cell_type": "code",
   "execution_count": null,
   "metadata": {
    "id": "CvOFxu3AjFjq"
   },
   "outputs": [],
   "source": [
    "plt.scatter(train_file_1[\"Measured Depth m\"],train_file_1[\"Rate of Penetration m/h\"])"
   ]
  },
  {
   "cell_type": "code",
   "execution_count": null,
   "metadata": {
    "id": "XoGhz7NKl-D1"
   },
   "outputs": [],
   "source": [
    "sns.boxplot(x=train_file_1[\"Rate of Penetration m/h\"]) #for outlier detection "
   ]
  },
  {
   "cell_type": "code",
   "execution_count": 8,
   "metadata": {
    "id": "IiVZpQT2ph_M",
    "outputId": "544ec96b-6569-4d39-a9f3-63cc058ef353"
   },
   "outputs": [
    {
     "name": "stdout",
     "output_type": "stream",
     "text": [
      "Measured Depth m                  1740.259750\n",
      "Weight on Bit kkgf                   4.843652\n",
      "Average Standpipe Pressure kPa    6497.529300\n",
      "Average Surface Torque kN.m          8.175582\n",
      "Rate of Penetration m/h             19.480001\n",
      "Average Rotary Speed rpm            50.033000\n",
      "Mud Flow In L/min                 1993.927917\n",
      "Mud Density In g/cm3                 9.549026\n",
      "Diameter mm                        228.600000\n",
      "Average Hookload kkgf               13.793998\n",
      "Hole Depth (TVD) m                1348.498217\n",
      "USROP Gamma gAPI                    72.760000\n",
      "dtype: float64\n"
     ]
    }
   ],
   "source": [
    "Q1 = train_file_1.quantile(0.25)\n",
    "Q3 = train_file_1.quantile(0.75)\n",
    "IQR = Q3 - Q1 #getting interquartile range\n",
    "print(IQR)"
   ]
  },
  {
   "cell_type": "code",
   "execution_count": null,
   "metadata": {
    "id": "8F4nQkjzsijS",
    "outputId": "3bd31b88-a846-4405-e48a-b7501661ac3e"
   },
   "outputs": [],
   "source": [
    "Q1"
   ]
  },
  {
   "cell_type": "code",
   "execution_count": null,
   "metadata": {
    "id": "FF4uikWetBDQ",
    "outputId": "542e5003-d9bb-4dad-d432-06caee27ed2e"
   },
   "outputs": [],
   "source": [
    "Q3"
   ]
  },
  {
   "cell_type": "code",
   "execution_count": 9,
   "metadata": {
    "id": "urEqyD0kqkcW"
   },
   "outputs": [],
   "source": [
    "train_file_2 = train_file_1[~((train_file_1 < (Q1 - 2 * IQR)) |(train_file_1 > (Q3 + 2 * IQR))).any(axis=1)] #PREPARING TRAIN_FILE RID OF OUTLIERS"
   ]
  },
  {
   "cell_type": "code",
   "execution_count": 12,
   "metadata": {
    "id": "GyestX99MZgo"
   },
   "outputs": [],
   "source": [
    "train_file_2_o = train_file_1[((train_file_1 < (Q1 - 2 * IQR)) |(train_file_1 > (Q3 + 2 * IQR))).any(axis=1)] # PREPARING TRAIN FILE WITH OUTLIERS ONLY"
   ]
  },
  {
   "cell_type": "code",
   "execution_count": null,
   "metadata": {
    "id": "5q_wsml4qwhb",
    "outputId": "ee0fb003-ed7f-4d03-e784-44b7ad69a2ad"
   },
   "outputs": [],
   "source": [
    "train_file_2.shape"
   ]
  },
  {
   "cell_type": "code",
   "execution_count": null,
   "metadata": {
    "id": "6InE1B5LNALL"
   },
   "outputs": [],
   "source": [
    "train_file_2_o.shape"
   ]
  },
  {
   "cell_type": "code",
   "execution_count": null,
   "metadata": {
    "id": "8oDfbK6COxVY"
   },
   "outputs": [],
   "source": [
    "train_file_2_o.describe()"
   ]
  },
  {
   "cell_type": "code",
   "execution_count": null,
   "metadata": {
    "id": "hdi0H4mDq29x"
   },
   "outputs": [],
   "source": [
    "train_file.shape"
   ]
  },
  {
   "cell_type": "code",
   "execution_count": null,
   "metadata": {
    "id": "oz-v_Le8z1kM"
   },
   "outputs": [],
   "source": [
    "sns.kdeplot(data=train_file_2, x=\"Rate of Penetration m/h\")"
   ]
  },
  {
   "cell_type": "code",
   "execution_count": null,
   "metadata": {
    "id": "L9Zhm8r0PNpD"
   },
   "outputs": [],
   "source": [
    "sns.kdeplot(data=train_file_2_o, x=\"Rate of Penetration m/h\")"
   ]
  },
  {
   "cell_type": "code",
   "execution_count": null,
   "metadata": {
    "id": "L6aenn8UPVsa"
   },
   "outputs": [],
   "source": [
    "sns.kdeplot(data=train_file_2, x= \"Average Rotary Speed rpm\")"
   ]
  },
  {
   "cell_type": "code",
   "execution_count": null,
   "metadata": {
    "id": "4T2nhf5NPg1B"
   },
   "outputs": [],
   "source": [
    "sns.kdeplot(data=train_file_2, x= \"USROP Gamma gAPI\")"
   ]
  },
  {
   "cell_type": "code",
   "execution_count": null,
   "metadata": {
    "id": "PWjnGgTiPtOF"
   },
   "outputs": [],
   "source": [
    "sns.kdeplot(data=train_file_2_o, x= \"Average Rotary Speed rpm\")"
   ]
  },
  {
   "cell_type": "code",
   "execution_count": null,
   "metadata": {
    "id": "Yi41pkaeP7Hz"
   },
   "outputs": [],
   "source": [
    "sns.kdeplot(data=train_file_2_o, x= \"USROP Gamma gAPI\")"
   ]
  },
  {
   "cell_type": "code",
   "execution_count": null,
   "metadata": {
    "id": "teF70mxUQFQW"
   },
   "outputs": [],
   "source": [
    "sns.kdeplot(data=test_file_1, x= \"USROP Gamma gAPI\")"
   ]
  },
  {
   "cell_type": "code",
   "execution_count": null,
   "metadata": {
    "id": "gXWDhUGkQS_d"
   },
   "outputs": [],
   "source": [
    "sns.kdeplot(data=train_file_2, x= \"Average Rotary Speed rpm\")"
   ]
  },
  {
   "cell_type": "code",
   "execution_count": null,
   "metadata": {
    "id": "ip0m-6WFQhPP"
   },
   "outputs": [],
   "source": [
    "sns.kdeplot(data=train_file_2, x= \"Weight on Bit kkgf\")"
   ]
  },
  {
   "cell_type": "code",
   "execution_count": null,
   "metadata": {
    "id": "d1I74KR_QtBM"
   },
   "outputs": [],
   "source": [
    "sns.kdeplot(data=train_file_2_o, x= \"Weight on Bit kkgf\")"
   ]
  },
  {
   "cell_type": "code",
   "execution_count": null,
   "metadata": {
    "id": "D_8hw9rYQ19c"
   },
   "outputs": [],
   "source": [
    "sns.kdeplot(data=test_file_1, x= \"Weight on Bit kkgf\")"
   ]
  },
  {
   "cell_type": "code",
   "execution_count": null,
   "metadata": {
    "id": "u-F-DyLi0G7X"
   },
   "outputs": [],
   "source": [
    "plt.scatter(train_file_2[\"Weight on Bit kkgf\"],train_file_2[\"Rate of Penetration m/h\"])\n",
    "plt.show()"
   ]
  },
  {
   "cell_type": "code",
   "execution_count": null,
   "metadata": {
    "id": "1B7lXMqDrOcA"
   },
   "outputs": [],
   "source": [
    "sns.pairplot(train_file_2)"
   ]
  },
  {
   "cell_type": "code",
   "execution_count": null,
   "metadata": {
    "id": "ELdc1--FwINk"
   },
   "outputs": [],
   "source": [
    "sns.boxplot(x=train_file_2[\"Rate of Penetration m/h\"])# to check"
   ]
  },
  {
   "cell_type": "code",
   "execution_count": null,
   "metadata": {
    "id": "xV9-N8TkxjCl"
   },
   "outputs": [],
   "source": [
    "train_file_2.corr()"
   ]
  },
  {
   "cell_type": "code",
   "execution_count": null,
   "metadata": {
    "id": "2i2blRJor2CV"
   },
   "outputs": [],
   "source": [
    "train_file_2_o.corr()"
   ]
  },
  {
   "cell_type": "markdown",
   "metadata": {
    "id": "oAHYb5s00VTC"
   },
   "source": [
    "# Splitting data"
   ]
  },
  {
   "cell_type": "code",
   "execution_count": 10,
   "metadata": {
    "id": "SV7NcYt_JBZi"
   },
   "outputs": [],
   "source": [
    "x_1 = train_file_2.drop(['Rate of Penetration m/h','Well Identifier','Weight on Bit kkgf'],axis = 1)\n",
    "y_1 = train_file_2['Rate of Penetration m/h']"
   ]
  },
  {
   "cell_type": "code",
   "execution_count": 13,
   "metadata": {
    "id": "WoBmFsHgqqWI"
   },
   "outputs": [],
   "source": [
    "x_2 = train_file_2_o.drop(['Rate of Penetration m/h','Well Identifier','Weight on Bit kkgf'],axis = 1)\n",
    "y_2 = train_file_2_o['Rate of Penetration m/h']"
   ]
  },
  {
   "cell_type": "code",
   "execution_count": 14,
   "metadata": {
    "id": "GBknUvvqz7CU"
   },
   "outputs": [],
   "source": [
    "from sklearn.model_selection import train_test_split\n",
    "x_train, x_test, y_train, y_test = train_test_split(x_1,y_1, test_size=0.2, train_size=0.8)\n",
    "x_train_1,x_test_1,y_train_1,y_test_1 = train_test_split(x_train,y_train, test_size=0.2, train_size=0.8)"
   ]
  },
  {
   "cell_type": "code",
   "execution_count": 42,
   "metadata": {
    "id": "Ni-ZJLC5rNRD"
   },
   "outputs": [],
   "source": [
    "  xgb_r = xg.XGBRegressor(objective='reg:squarederror',\n",
    "                              random_state = 1,\n",
    "                              tree_method = 'gpu_hist',\n",
    "                            n_estimators = 500,\n",
    "                            max_depth = 8)\n",
    "  seed = 7"
   ]
  },
  {
   "cell_type": "code",
   "execution_count": 43,
   "metadata": {
    "id": "gZCc_sNCsAz8",
    "outputId": "770a4e1c-3b2c-4b3a-b7f1-4cfafb04d276"
   },
   "outputs": [
    {
     "data": {
      "text/plain": [
       "XGBRegressor(base_score=0.5, booster='gbtree', colsample_bylevel=1,\n",
       "             colsample_bynode=1, colsample_bytree=1, gamma=0, gpu_id=0,\n",
       "             importance_type='gain', interaction_constraints='',\n",
       "             learning_rate=0.300000012, max_delta_step=0, max_depth=8,\n",
       "             min_child_weight=1, missing=nan, monotone_constraints='()',\n",
       "             n_estimators=500, n_jobs=2, num_parallel_tree=1, random_state=1,\n",
       "             reg_alpha=0, reg_lambda=1, scale_pos_weight=1, subsample=1,\n",
       "             tree_method='gpu_hist', validate_parameters=1, verbosity=None)"
      ]
     },
     "execution_count": 43,
     "metadata": {},
     "output_type": "execute_result"
    }
   ],
   "source": [
    "#predicting with xgboost first\n",
    "xgb_r.fit(x_train_1,y_train_1)"
   ]
  },
  {
   "cell_type": "code",
   "execution_count": 44,
   "metadata": {
    "id": "KVm_NZa4sU0X",
    "outputId": "9303bdbf-0011-4cd5-8050-190602c829ed"
   },
   "outputs": [
    {
     "name": "stdout",
     "output_type": "stream",
     "text": [
      "0.27394788144752247\n"
     ]
    }
   ],
   "source": [
    "y_test_1_pred_xgb = xgb_r.predict(x_test_1)\n",
    "mae = sklearn.metrics.mean_absolute_error(y_test_1,y_test_1_pred_xgb)\n",
    "print(mae)"
   ]
  },
  {
   "cell_type": "code",
   "execution_count": 45,
   "metadata": {
    "id": "Qd7N_dbbs0Xz",
    "outputId": "8544ad41-411c-4ebb-c374-27ecb3c0cc42"
   },
   "outputs": [
    {
     "name": "stdout",
     "output_type": "stream",
     "text": [
      "0.270954320186072\n"
     ]
    }
   ],
   "source": [
    "y_test_pred_xgb = xgb_r.predict(x_test)\n",
    "mae_test = sklearn.metrics.mean_absolute_error(y_test,y_test_pred_xgb)\n",
    "print(mae_test)"
   ]
  },
  {
   "cell_type": "code",
   "execution_count": 46,
   "metadata": {
    "id": "jR9pwczEuG8l",
    "outputId": "b6133e8e-d4cc-4c29-9e92-4aa910ece084"
   },
   "outputs": [
    {
     "data": {
      "text/plain": [
       "array([24.506607, 44.186005,  8.007689, ..., 12.52922 , 23.4795  ,\n",
       "       14.869062], dtype=float32)"
      ]
     },
     "execution_count": 46,
     "metadata": {},
     "output_type": "execute_result"
    }
   ],
   "source": [
    "y_test_pred_xgb"
   ]
  },
  {
   "cell_type": "markdown",
   "metadata": {
    "id": "a8vr0xqv1tsK"
   },
   "source": [
    "Save the model"
   ]
  },
  {
   "cell_type": "code",
   "execution_count": 55,
   "metadata": {
    "id": "sNCoJ3xHRd3e"
   },
   "outputs": [],
   "source": [
    "filename = 'weight model f.pkl'\n",
    "pickle.dump(xgb_r,open(filename,'wb'))"
   ]
  },
  {
   "cell_type": "markdown",
   "metadata": {
    "id": "nM1uPx6mwi7L"
   },
   "source": [
    "# Test file prediction"
   ]
  },
  {
   "cell_type": "markdown",
   "metadata": {},
   "source": [
    "Load the model"
   ]
  },
  {
   "cell_type": "code",
   "execution_count": 56,
   "metadata": {},
   "outputs": [],
   "source": [
    "loaded_model = pickle.load(open(filename,'rb'))"
   ]
  },
  {
   "cell_type": "markdown",
   "metadata": {},
   "source": [
    "Run the test file to predict"
   ]
  },
  {
   "cell_type": "code",
   "execution_count": 58,
   "metadata": {
    "id": "zACUCGJO3fG1"
   },
   "outputs": [],
   "source": [
    "test_file = pd.read_csv(\"../input/test-file/tech_challenge2021_test.csv\") #test file is required to be provided path from session storage "
   ]
  },
  {
   "cell_type": "code",
   "execution_count": 59,
   "metadata": {
    "id": "PrsMLGUBOu8O"
   },
   "outputs": [],
   "source": [
    "test_file_1 = test_file.copy()  "
   ]
  },
  {
   "cell_type": "code",
   "execution_count": 60,
   "metadata": {
    "id": "uwNwNLVav5sB"
   },
   "outputs": [],
   "source": [
    "x_t = test_file_1.drop(['Well Identifier','Weight on Bit kkgf'],axis = 1)\n",
    "y_t = loaded_model.predict(x_t) "
   ]
  },
  {
   "cell_type": "code",
   "execution_count": 31,
   "metadata": {
    "id": "nkxgKcCsW1dt"
   },
   "outputs": [
    {
     "data": {
      "text/html": [
       "<div>\n",
       "<style scoped>\n",
       "    .dataframe tbody tr th:only-of-type {\n",
       "        vertical-align: middle;\n",
       "    }\n",
       "\n",
       "    .dataframe tbody tr th {\n",
       "        vertical-align: top;\n",
       "    }\n",
       "\n",
       "    .dataframe thead th {\n",
       "        text-align: right;\n",
       "    }\n",
       "</style>\n",
       "<table border=\"1\" class=\"dataframe\">\n",
       "  <thead>\n",
       "    <tr style=\"text-align: right;\">\n",
       "      <th></th>\n",
       "      <th>Measured Depth m</th>\n",
       "      <th>Average Standpipe Pressure kPa</th>\n",
       "      <th>Average Surface Torque kN.m</th>\n",
       "      <th>Average Rotary Speed rpm</th>\n",
       "      <th>Mud Flow In L/min</th>\n",
       "      <th>Mud Density In g/cm3</th>\n",
       "      <th>Diameter mm</th>\n",
       "      <th>Average Hookload kkgf</th>\n",
       "      <th>Hole Depth (TVD) m</th>\n",
       "      <th>USROP Gamma gAPI</th>\n",
       "    </tr>\n",
       "  </thead>\n",
       "  <tbody>\n",
       "    <tr>\n",
       "      <th>0</th>\n",
       "      <td>365.150</td>\n",
       "      <td>23053.9448</td>\n",
       "      <td>22.631313</td>\n",
       "      <td>169.781</td>\n",
       "      <td>3491.436904</td>\n",
       "      <td>1.31</td>\n",
       "      <td>254.0</td>\n",
       "      <td>136.662392</td>\n",
       "      <td>365.124187</td>\n",
       "      <td>20.774</td>\n",
       "    </tr>\n",
       "    <tr>\n",
       "      <th>1</th>\n",
       "      <td>365.303</td>\n",
       "      <td>23053.9448</td>\n",
       "      <td>22.631313</td>\n",
       "      <td>169.781</td>\n",
       "      <td>3491.436904</td>\n",
       "      <td>1.31</td>\n",
       "      <td>254.0</td>\n",
       "      <td>136.662392</td>\n",
       "      <td>365.276587</td>\n",
       "      <td>20.774</td>\n",
       "    </tr>\n",
       "    <tr>\n",
       "      <th>2</th>\n",
       "      <td>365.455</td>\n",
       "      <td>23053.9448</td>\n",
       "      <td>22.631313</td>\n",
       "      <td>169.781</td>\n",
       "      <td>3491.436904</td>\n",
       "      <td>1.31</td>\n",
       "      <td>254.0</td>\n",
       "      <td>136.662392</td>\n",
       "      <td>365.428682</td>\n",
       "      <td>20.774</td>\n",
       "    </tr>\n",
       "    <tr>\n",
       "      <th>3</th>\n",
       "      <td>365.608</td>\n",
       "      <td>23053.9448</td>\n",
       "      <td>22.631313</td>\n",
       "      <td>169.781</td>\n",
       "      <td>3491.436904</td>\n",
       "      <td>1.31</td>\n",
       "      <td>254.0</td>\n",
       "      <td>136.662392</td>\n",
       "      <td>365.581082</td>\n",
       "      <td>20.774</td>\n",
       "    </tr>\n",
       "    <tr>\n",
       "      <th>4</th>\n",
       "      <td>365.760</td>\n",
       "      <td>23053.9448</td>\n",
       "      <td>22.631313</td>\n",
       "      <td>169.781</td>\n",
       "      <td>3491.436904</td>\n",
       "      <td>1.31</td>\n",
       "      <td>254.0</td>\n",
       "      <td>136.662392</td>\n",
       "      <td>365.733178</td>\n",
       "      <td>20.774</td>\n",
       "    </tr>\n",
       "  </tbody>\n",
       "</table>\n",
       "</div>"
      ],
      "text/plain": [
       "   Measured Depth m  Average Standpipe Pressure kPa  \\\n",
       "0           365.150                      23053.9448   \n",
       "1           365.303                      23053.9448   \n",
       "2           365.455                      23053.9448   \n",
       "3           365.608                      23053.9448   \n",
       "4           365.760                      23053.9448   \n",
       "\n",
       "   Average Surface Torque kN.m  Average Rotary Speed rpm  Mud Flow In L/min  \\\n",
       "0                    22.631313                   169.781        3491.436904   \n",
       "1                    22.631313                   169.781        3491.436904   \n",
       "2                    22.631313                   169.781        3491.436904   \n",
       "3                    22.631313                   169.781        3491.436904   \n",
       "4                    22.631313                   169.781        3491.436904   \n",
       "\n",
       "   Mud Density In g/cm3  Diameter mm  Average Hookload kkgf  \\\n",
       "0                  1.31        254.0             136.662392   \n",
       "1                  1.31        254.0             136.662392   \n",
       "2                  1.31        254.0             136.662392   \n",
       "3                  1.31        254.0             136.662392   \n",
       "4                  1.31        254.0             136.662392   \n",
       "\n",
       "   Hole Depth (TVD) m  USROP Gamma gAPI  \n",
       "0          365.124187            20.774  \n",
       "1          365.276587            20.774  \n",
       "2          365.428682            20.774  \n",
       "3          365.581082            20.774  \n",
       "4          365.733178            20.774  "
      ]
     },
     "execution_count": 31,
     "metadata": {},
     "output_type": "execute_result"
    }
   ],
   "source": [
    "x_t.head()"
   ]
  },
  {
   "cell_type": "code",
   "execution_count": 61,
   "metadata": {
    "id": "KzRvQHo_yr9d"
   },
   "outputs": [
    {
     "data": {
      "text/plain": [
       "array([40.09586 , 40.09586 , 40.09586 , ..., 12.591483, 12.591483,\n",
       "       12.591483], dtype=float32)"
      ]
     },
     "execution_count": 61,
     "metadata": {},
     "output_type": "execute_result"
    }
   ],
   "source": [
    "y_t"
   ]
  },
  {
   "cell_type": "code",
   "execution_count": 63,
   "metadata": {
    "id": "C9Kpij1_yxAs"
   },
   "outputs": [],
   "source": [
    "test_file_1['Rate of Penetration m/h'] = y_t"
   ]
  },
  {
   "cell_type": "code",
   "execution_count": 64,
   "metadata": {
    "id": "K4aN5wLKzr1K"
   },
   "outputs": [
    {
     "data": {
      "text/plain": [
       "(114299, 13)"
      ]
     },
     "execution_count": 64,
     "metadata": {},
     "output_type": "execute_result"
    }
   ],
   "source": [
    "test_file_1.shape"
   ]
  },
  {
   "cell_type": "code",
   "execution_count": 65,
   "metadata": {
    "id": "gIoSlrhSUfN0"
   },
   "outputs": [],
   "source": [
    "test_file_1['Rate of Penetration m/h'].to_csv('test_file_f_pe.csv',index = False)"
   ]
  }
 ],
 "metadata": {
  "kernelspec": {
   "display_name": "Python 3",
   "language": "python",
   "name": "python3"
  },
  "language_info": {
   "codemirror_mode": {
    "name": "ipython",
    "version": 3
   },
   "file_extension": ".py",
   "mimetype": "text/x-python",
   "name": "python",
   "nbconvert_exporter": "python",
   "pygments_lexer": "ipython3",
   "version": "3.8.3"
  }
 },
 "nbformat": 4,
 "nbformat_minor": 4
}
